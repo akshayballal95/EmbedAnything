{
 "cells": [
  {
   "cell_type": "code",
   "execution_count": 6,
   "metadata": {},
   "outputs": [],
   "source": [
    "import weaviate, os\n",
    "import weaviate.classes as wvc\n",
    "from tqdm.auto import tqdm\n",
    "import embed_anything\n",
    "from embed_anything import EmbedData\n",
    "from embed_anything.vectordb import Adapter\n",
    "from embed_anything import EmbeddingModel, TextEmbedConfig, WhichModel\n"
   ]
  },
  {
   "cell_type": "markdown",
   "metadata": {},
   "source": [
    "## Create Weaviate Adapter"
   ]
  },
  {
   "cell_type": "code",
   "execution_count": 90,
   "metadata": {},
   "outputs": [],
   "source": [
    "from typing import List\n",
    "\n",
    "\n",
    "class WeaviateAdapter(Adapter):\n",
    "    def __init__(self, api_key, url):\n",
    "        super().__init__(api_key)\n",
    "        self.client = weaviate.connect_to_weaviate_cloud(\n",
    "            cluster_url=url, auth_credentials=wvc.init.Auth.api_key(api_key)\n",
    "        )\n",
    "        if self.client.is_ready():\n",
    "            print(\"Weaviate is ready\")\n",
    "\n",
    "    def create_index(self, index_name: str):\n",
    "        self.index_name = index_name\n",
    "        self.collection = self.client.collections.create(\n",
    "            index_name, vectorizer_config=wvc.config.Configure.Vectorizer.none()\n",
    "        )\n",
    "        return self.collection\n",
    "        \n",
    "\n",
    "    def convert(self, embeddings: List[EmbedData]):\n",
    "        data = []\n",
    "        for embedding in embeddings:\n",
    "            property = embedding.metadata\n",
    "            property[\"text\"] = embedding.text\n",
    "            data.append(\n",
    "                wvc.data.DataObject(properties=property, vector=embedding.embedding)\n",
    "            )\n",
    "        return data\n",
    "\n",
    "    def upsert(self, data_: List[EmbedData]):\n",
    "        data_ = self.convert(data_)\n",
    "\n",
    "        return self.client.collections.get(self.index_name).data.insert_many(data_)\n",
    "\n",
    "    def delete_index(self, index_name: str):\n",
    "        self.client.collections.delete(index_name)"
   ]
  },
  {
   "cell_type": "code",
   "execution_count": 91,
   "metadata": {},
   "outputs": [
    {
     "name": "stdout",
     "output_type": "stream",
     "text": [
      "Weaviate is ready\n"
     ]
    }
   ],
   "source": [
    "URL = \"Put your URL here\"\n",
    "API_KEY = \"Put your API key here\"\n",
    "weaviate_adapter = WeaviateAdapter(API_KEY, URL)"
   ]
  },
  {
   "cell_type": "code",
   "execution_count": 92,
   "metadata": {},
   "outputs": [
    {
     "data": {
      "text/plain": [
       "<weaviate.collections.collection.sync.Collection at 0x19871876e90>"
      ]
     },
     "execution_count": 92,
     "metadata": {},
     "output_type": "execute_result"
    }
   ],
   "source": [
    "index_name = \"Test_index\"\n",
    "if index_name in weaviate_adapter.client.collections.list_all():\n",
    "    weaviate_adapter.delete_index(index_name)\n",
    "weaviate_adapter.create_index(\"Test_index\")"
   ]
  },
  {
   "cell_type": "code",
   "execution_count": 93,
   "metadata": {},
   "outputs": [],
   "source": [
    "# Prase PDF and insert documents into Elasticsearch.\n",
    "model = EmbeddingModel.from_pretrained_hf(\n",
    "    WhichModel.Bert, model_id=\"sentence-transformers/all-MiniLM-L6-v2\"\n",
    ")\n",
    "config = TextEmbedConfig(chunk_size=20, batch_size=32)\n",
    "data = embed_anything.embed_file(\"test_files/attention.pdf\", embeder=model, config=config, adapter=weaviate_adapter)"
   ]
  },
  {
   "cell_type": "code",
   "execution_count": null,
   "metadata": {},
   "outputs": [],
   "source": []
  },
  {
   "cell_type": "markdown",
   "metadata": {},
   "source": [
    "## Query Search"
   ]
  },
  {
   "cell_type": "code",
   "execution_count": 94,
   "metadata": {},
   "outputs": [],
   "source": [
    "query_vector = embed_anything.embed_query([\"What is self attention\"], embeder=model, config=config)[\n",
    "    0\n",
    "].embedding"
   ]
  },
  {
   "cell_type": "code",
   "execution_count": 95,
   "metadata": {},
   "outputs": [],
   "source": [
    "response = weaviate_adapter.collection.query.near_vector(\n",
    "    near_vector=query_vector,\n",
    "    limit=2,\n",
    "    return_metadata=wvc.query.MetadataQuery(certainty=True),\n",
    ")"
   ]
  },
  {
   "cell_type": "code",
   "execution_count": 96,
   "metadata": {},
   "outputs": [
    {
     "name": "stdout",
     "output_type": "stream",
     "text": [
      "Self-attention, sometimes called intra-attention is an attention mechanism relating different positions\n",
      "\n",
      "self-attention and discuss its advantages over models such as [17, 18] and [9]\n",
      "\n"
     ]
    }
   ],
   "source": [
    "import textwrap\n",
    "\n",
    "for res in response.objects:\n",
    "    print(textwrap.fill(res.properties[\"text\"], width=120), end=\"\\n\\n\")"
   ]
  }
 ],
 "metadata": {
  "kernelspec": {
   "display_name": "embed",
   "language": "python",
   "name": "python3"
  },
  "language_info": {
   "codemirror_mode": {
    "name": "ipython",
    "version": 3
   },
   "file_extension": ".py",
   "mimetype": "text/x-python",
   "name": "python",
   "nbconvert_exporter": "python",
   "pygments_lexer": "ipython3",
   "version": "3.11.4"
  }
 },
 "nbformat": 4,
 "nbformat_minor": 2
}
